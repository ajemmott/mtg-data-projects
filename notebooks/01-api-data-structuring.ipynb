{
 "cells": [
  {
   "attachments": {},
   "cell_type": "markdown",
   "metadata": {},
   "source": [
    "# 1. API Data Structuring\n",
    "\n",
    "In this notebook I'll share with you the initial steps of importing MTG card data from an API; followed by the discovery process, its structuring, cleaning and export; so that it can be used on other data projects later on.\n",
    "\n",
    "## 1.1. Resources and Setup\n",
    "\n",
    "To start, let's set up our project imports. We'll need some components from the scipy stack, some general utility packages and a custom module I wrote to isolate the process of requesting the API.\n"
   ]
  },
  {
   "cell_type": "code",
   "execution_count": 1,
   "metadata": {},
   "outputs": [],
   "source": [
    "# Project imports\n",
    "import os   # To access environment variables\n",
    "import sys  # To allow access to my local modules from this notebook\n",
    "\n",
    "from pathlib import Path    # To ease working with filesystem paths\n",
    "from datetime import date   # to manage product versions based on date\n",
    "\n",
    "# Scipy Stack \n",
    "import numpy as np\n",
    "import pandas as pd\n",
    "\n",
    "# Setting up custom modules\n",
    "project_folder = Path.cwd().parent\n",
    "\n",
    "if str(project_folder) not in sys.path:\n",
    "    sys.path.append(str(project_folder))\n",
    "\n",
    "from modules.api_client import get_set_data"
   ]
  },
  {
   "attachments": {},
   "cell_type": "markdown",
   "metadata": {},
   "source": [
    "Next, the project constants should be defined. this will include general details for the project like a project identifier, the current date, and the path where any resulting file should be stored on. In this case we'll store two files: the raw data as obtained from the api to avoid repeated queries (1), and the resulting data after being cleaned (2) so that it can be used in other projects."
   ]
  },
  {
   "cell_type": "code",
   "execution_count": 2,
   "metadata": {},
   "outputs": [],
   "source": [
    "# Project Constants\n",
    "PROJECT_CODE = 'mtg_demo' # A short identifier for this project.\n",
    "PROJECT_DATE = str(date.today())\n",
    "\n",
    "# Indentifiers for the files we intend on producing in this notebook\n",
    "RAW_PRODUCT = 'scryfall_raw'\n",
    "PROCESSED_PRODUCT= 'processed_data'\n",
    "\n",
    "RAW_DATA_OUT_DIR = Path(os.environ['RAW_DATA_DIR_PATH'])\n",
    "RAW_DATA_PATH = RAW_DATA_OUT_DIR / ('_'.join([PROJECT_CODE,\n",
    "                                             RAW_PRODUCT,\n",
    "                                             PROJECT_DATE]))\n",
    "\n",
    "PROCESSED_DATA_OUT_DIR = Path(os.environ['PROCESSED_DATA_DIR_PATH'])\n",
    "PROCESSED_DATA_PATH = PROCESSED_DATA_OUT_DIR / ('_'.join([PROJECT_CODE,\n",
    "                                                         PROCESSED_PRODUCT,\n",
    "                                                         PROJECT_DATE]))"
   ]
  },
  {
   "attachments": {},
   "cell_type": "markdown",
   "metadata": {},
   "source": [
    "## 1.2. Obtaining the Card Data\n",
    "\n",
    "There are multiple choices as to where we can import data from. I chose [Scryfall's API](https://scryfall.com/docs/api) for the sake of familiarity with their platform and documentation. As i mentioned earlier, the specifics of the requesting process are kept in the api_client.py module in the modules folder of this project. "
   ]
  },
  {
   "cell_type": "code",
   "execution_count": 3,
   "metadata": {},
   "outputs": [
    {
     "name": "stderr",
     "output_type": "stream",
     "text": [
      "2023-05-01 17:15:57.668 | INFO     | modules.api_client:get_set_data:16 - \n",
      " - requesting api for data...\n",
      "\n",
      "2023-05-01 17:16:01.059 | INFO     | modules.api_client:get_set_data:20 - \n",
      " - storing json data for future reference...\n",
      "\n"
     ]
    }
   ],
   "source": [
    "raw_set_data = get_set_data(\n",
    "    RAW_DATA_PATH.with_suffix('.json'),\n",
    "    query='(s:mom or s:stx) -is:rebalanced'\n",
    ")"
   ]
  },
  {
   "attachments": {},
   "cell_type": "markdown",
   "metadata": {},
   "source": [
    "# 1.3. Processing the Data\n",
    "\n",
    "To first familiarize ourselves with the data we run the **`pandas.DataFrame.info()`** method. this should display the size of the dataframe; and the name, dtype, and prevalence of null values in every column. adding **`verbose=True`** as a parameter might be needed to display all the details."
   ]
  },
  {
   "cell_type": "code",
   "execution_count": 4,
   "metadata": {},
   "outputs": [
    {
     "name": "stdout",
     "output_type": "stream",
     "text": [
      "<class 'pandas.core.frame.DataFrame'>\n",
      "RangeIndex: 571 entries, 0 to 570\n",
      "Data columns (total 72 columns):\n",
      " #   Column             Non-Null Count  Dtype  \n",
      "---  ------             --------------  -----  \n",
      " 0   object             571 non-null    object \n",
      " 1   id                 571 non-null    object \n",
      " 2   oracle_id          571 non-null    object \n",
      " 3   multiverse_ids     571 non-null    object \n",
      " 4   mtgo_id            571 non-null    int64  \n",
      " 5   arena_id           571 non-null    int64  \n",
      " 6   tcgplayer_id       571 non-null    int64  \n",
      " 7   cardmarket_id      556 non-null    float64\n",
      " 8   name               571 non-null    object \n",
      " 9   lang               571 non-null    object \n",
      " 10  released_at        571 non-null    object \n",
      " 11  uri                571 non-null    object \n",
      " 12  scryfall_uri       571 non-null    object \n",
      " 13  layout             571 non-null    object \n",
      " 14  highres_image      571 non-null    bool   \n",
      " 15  image_status       571 non-null    object \n",
      " 16  image_uris         494 non-null    object \n",
      " 17  mana_cost          494 non-null    object \n",
      " 18  cmc                571 non-null    float64\n",
      " 19  type_line          571 non-null    object \n",
      " 20  oracle_text        494 non-null    object \n",
      " 21  colors             494 non-null    object \n",
      " 22  color_identity     571 non-null    object \n",
      " 23  keywords           571 non-null    object \n",
      " 24  legalities         571 non-null    object \n",
      " 25  games              571 non-null    object \n",
      " 26  reserved           571 non-null    bool   \n",
      " 27  foil               571 non-null    bool   \n",
      " 28  nonfoil            571 non-null    bool   \n",
      " 29  finishes           571 non-null    object \n",
      " 30  oversized          571 non-null    bool   \n",
      " 31  promo              571 non-null    bool   \n",
      " 32  reprint            571 non-null    bool   \n",
      " 33  variation          571 non-null    bool   \n",
      " 34  set_id             571 non-null    object \n",
      " 35  set                571 non-null    object \n",
      " 36  set_name           571 non-null    object \n",
      " 37  set_type           571 non-null    object \n",
      " 38  set_uri            571 non-null    object \n",
      " 39  set_search_uri     571 non-null    object \n",
      " 40  scryfall_set_uri   571 non-null    object \n",
      " 41  rulings_uri        571 non-null    object \n",
      " 42  prints_search_uri  571 non-null    object \n",
      " 43  collector_number   571 non-null    object \n",
      " 44  digital            571 non-null    bool   \n",
      " 45  rarity             571 non-null    object \n",
      " 46  flavor_text        345 non-null    object \n",
      " 47  card_back_id       494 non-null    object \n",
      " 48  artist             571 non-null    object \n",
      " 49  artist_ids         571 non-null    object \n",
      " 50  illustration_id    494 non-null    object \n",
      " 51  border_color       571 non-null    object \n",
      " 52  frame              571 non-null    object \n",
      " 53  full_art           571 non-null    bool   \n",
      " 54  textless           571 non-null    bool   \n",
      " 55  booster            571 non-null    bool   \n",
      " 56  story_spotlight    571 non-null    bool   \n",
      " 57  edhrec_rank        566 non-null    float64\n",
      " 58  penny_rank         185 non-null    float64\n",
      " 59  preview            374 non-null    object \n",
      " 60  prices             571 non-null    object \n",
      " 61  related_uris       571 non-null    object \n",
      " 62  purchase_uris      571 non-null    object \n",
      " 63  frame_effects      79 non-null     object \n",
      " 64  security_stamp     175 non-null    object \n",
      " 65  produced_mana      54 non-null     object \n",
      " 66  power              250 non-null    object \n",
      " 67  toughness          250 non-null    object \n",
      " 68  card_faces         77 non-null     object \n",
      " 69  watermark          113 non-null    object \n",
      " 70  loyalty            5 non-null      object \n",
      " 71  all_parts          119 non-null    object \n",
      "dtypes: bool(13), float64(4), int64(3), object(52)\n",
      "memory usage: 270.6+ KB\n"
     ]
    }
   ],
   "source": [
    "raw_set_data.info()"
   ]
  },
  {
   "attachments": {},
   "cell_type": "markdown",
   "metadata": {},
   "source": [
    "The card data we are requesting belongs to the sets March of the Machine (MOM) and Strixhaven (STX). In my experience, exploring the contents of a set with data tools accelerates the process of becoming deeply familiar with the themes and composition of the set. \n",
    "\n",
    "Say, we are now interested in the columns that describe gameplay features of the cards in the set to ease the process of playing with new cards. We can start by filtering the data with a list of the features relevant to gameplay. In this case we can verify what features are relevant to gameplay by reviewing the descriptions in the [Scryfall's API Documentation](https://scryfall.com/docs/api/cards)."
   ]
  },
  {
   "cell_type": "code",
   "execution_count": 5,
   "metadata": {},
   "outputs": [
    {
     "name": "stdout",
     "output_type": "stream",
     "text": [
      "<class 'pandas.core.frame.DataFrame'>\n",
      "RangeIndex: 571 entries, 0 to 570\n",
      "Data columns (total 15 columns):\n",
      " #   Column          Non-Null Count  Dtype  \n",
      "---  ------          --------------  -----  \n",
      " 0   name            571 non-null    object \n",
      " 1   layout          571 non-null    object \n",
      " 2   mana_cost       494 non-null    object \n",
      " 3   cmc             571 non-null    float64\n",
      " 4   type_line       571 non-null    object \n",
      " 5   oracle_text     494 non-null    object \n",
      " 6   colors          494 non-null    object \n",
      " 7   color_identity  571 non-null    object \n",
      " 8   card_faces      77 non-null     object \n",
      " 9   rarity          571 non-null    object \n",
      " 10  power           250 non-null    object \n",
      " 11  toughness       250 non-null    object \n",
      " 12  loyalty         5 non-null      object \n",
      " 13  id              571 non-null    object \n",
      " 14  image_uris      494 non-null    object \n",
      "dtypes: float64(1), object(14)\n",
      "memory usage: 67.0+ KB\n"
     ]
    }
   ],
   "source": [
    "gameplay_features = ['name', 'layout', 'mana_cost', 'cmc', 'type_line',\n",
    "                     'oracle_text','colors','color_identity', 'card_faces',\n",
    "                     'rarity', 'power', 'toughness', 'loyalty', 'id', 'image_uris']\n",
    "\n",
    "set_data = raw_set_data[gameplay_features]\n",
    "set_data.info()"
   ]
  },
  {
   "attachments": {},
   "cell_type": "markdown",
   "metadata": {},
   "source": [
    "Also, in the documetation we can find two key details about the data \n",
    "\n",
    "1. Any row corresponding to a double-face card (dfc) has an array of json data with the features of each face in the `card_faces` column.\n",
    "\n",
    "2. We can tell if a card is a dfc by looking at the `layout` column.\n",
    "\n",
    "3. A transform `layout` indicates that the card starts on a given face (usually the front) and then flips (transforms) into the other face.\n",
    "\n",
    "4. A modal_dfc `layout` indicates that the card can played as the front mode or the back mode.\n",
    "\n",
    "Let's verify the contents of the layout column."
   ]
  },
  {
   "cell_type": "code",
   "execution_count": 7,
   "metadata": {},
   "outputs": [
    {
     "data": {
      "text/plain": [
       "normal       494\n",
       "transform     61\n",
       "modal_dfc     16\n",
       "Name: layout, dtype: int64"
      ]
     },
     "execution_count": 7,
     "metadata": {},
     "output_type": "execute_result"
    }
   ],
   "source": [
    "set_data.layout.value_counts()"
   ]
  },
  {
   "attachments": {},
   "cell_type": "markdown",
   "metadata": {},
   "source": [
    "The `card_faces` column of the 77 non-normal layout  cards should help fill the null values of the columns with 494 non-null values."
   ]
  }
 ],
 "metadata": {
  "kernelspec": {
   "display_name": "Python 3",
   "language": "python",
   "name": "python3"
  },
  "language_info": {
   "name": "python",
   "version": "3.11.2"
  },
  "orig_nbformat": 4
 },
 "nbformat": 4,
 "nbformat_minor": 2
}

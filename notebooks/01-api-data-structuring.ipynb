{
 "cells": [
  {
   "attachments": {},
   "cell_type": "markdown",
   "metadata": {},
   "source": [
    "# 1. API Data Structuring\n",
    "\n",
    "In this notebook I'll share with you the initial steps of importing MTG card data from an API; followed by the discovery process, its structuring, cleaning and export; so that it can be used on other data projects later on.\n",
    "\n",
    "## 1.1. Resources and Setup\n",
    "\n",
    "To start, let's set up our project imports. We'll need some components from the scipy stack, some general utility packages and a custom module I wrote to isolate the process of requesting the API and keep the contents of this notebook on scope.\n"
   ]
  },
  {
   "cell_type": "code",
   "execution_count": 1,
   "metadata": {},
   "outputs": [],
   "source": [
    "# Project imports\n",
    "import os   # To access environment variables\n",
    "import sys  # To allow access to my local modules from this notebook\n",
    "\n",
    "from pathlib import Path    # To ease working with filesystem paths\n",
    "from datetime import date   # to manage product versions based on date\n",
    "\n",
    "# Scipy Stack \n",
    "import numpy as np\n",
    "import pandas as pd\n",
    "\n",
    "# Setting up custom modules\n",
    "project_folder = Path.cwd().parent\n",
    "\n",
    "if str(project_folder) not in sys.path:\n",
    "    sys.path.append(str(project_folder))\n",
    "\n",
    "from modules.api_client import get_set_data"
   ]
  },
  {
   "attachments": {},
   "cell_type": "markdown",
   "metadata": {},
   "source": [
    "Next, the project constants should be defined. this will include general details for the project like a project identifier, the current date, and the path where any resulting file should be stored on. In this case we'll store two files: the raw data as obtained from the api to avoid repeated queries (1), and the resulting data after being cleaned (2) so that it can be used in other projects."
   ]
  },
  {
   "cell_type": "code",
   "execution_count": 2,
   "metadata": {},
   "outputs": [],
   "source": [
    "# Project Constants\n",
    "PROJECT_CODE = 'mtg_demo' # A short identifier for this project.\n",
    "PROJECT_DATE = str(date.today())\n",
    "\n",
    "# Indentifiers for the files we intend on producing in this notebook\n",
    "RAW_PRODUCT = 'scryfall_raw'\n",
    "PROCESSED_PRODUCT= 'processed_data'\n",
    "\n",
    "RAW_DATA_OUT_DIR = Path(os.environ['RAW_DATA_DIR_PATH'])\n",
    "RAW_DATA_PATH = RAW_DATA_OUT_DIR / ('_'.join([PROJECT_CODE,\n",
    "                                             RAW_PRODUCT,\n",
    "                                             PROJECT_DATE]))\n",
    "\n",
    "PROCESSED_DATA_OUT_DIR = Path(os.environ['PROCESSED_DATA_DIR_PATH'])\n",
    "PROCESSED_DATA_PATH = PROCESSED_DATA_OUT_DIR / ('_'.join([PROJECT_CODE,\n",
    "                                                         PROCESSED_PRODUCT,\n",
    "                                                         PROJECT_DATE]))"
   ]
  },
  {
   "attachments": {},
   "cell_type": "markdown",
   "metadata": {},
   "source": [
    "## 1.2. Obtaining the Card Data\n",
    "\n",
    "There are multiple choices as to where we can import data from. I chose [Scryfall's API](https://scryfall.com/docs/api) for the sake of familiarity with their platform and documentation. As i mentioned earlier, the specifics of the requesting process are kept in the api_client.py module in the modules folder of this project. "
   ]
  },
  {
   "cell_type": "code",
   "execution_count": 4,
   "metadata": {},
   "outputs": [
    {
     "name": "stderr",
     "output_type": "stream",
     "text": [
      "2023-05-01 14:33:00.677 | INFO     | modules.api_client:get_set_data:10 - \n",
      " - older data found. skipping request.\n",
      "\n"
     ]
    }
   ],
   "source": [
    "raw_set_data = get_set_data(\n",
    "    RAW_DATA_PATH.with_suffix('.json'),\n",
    "    query='s:mom -is:rebalanced'\n",
    ")"
   ]
  },
  {
   "attachments": {},
   "cell_type": "markdown",
   "metadata": {},
   "source": [
    "# 1.3. Processing the Data\n",
    "\n",
    "To first familiarize ourselves with the data we run the **`pandas.DataFrame.info()`** method. this should display the size of the dataframe; and the name, dtype, and prevalence of null values in every column."
   ]
  },
  {
   "cell_type": "code",
   "execution_count": 5,
   "metadata": {},
   "outputs": [
    {
     "name": "stdout",
     "output_type": "stream",
     "text": [
      "<class 'pandas.core.frame.DataFrame'>\n",
      "Int64Index: 296 entries, 0 to 295\n",
      "Data columns (total 71 columns):\n",
      " #   Column             Non-Null Count  Dtype         \n",
      "---  ------             --------------  -----         \n",
      " 0   object             296 non-null    object        \n",
      " 1   id                 296 non-null    object        \n",
      " 2   oracle_id          296 non-null    object        \n",
      " 3   multiverse_ids     296 non-null    object        \n",
      " 4   mtgo_id            296 non-null    int64         \n",
      " 5   arena_id           296 non-null    int64         \n",
      " 6   tcgplayer_id       296 non-null    int64         \n",
      " 7   cardmarket_id      281 non-null    float64       \n",
      " 8   name               296 non-null    object        \n",
      " 9   lang               296 non-null    object        \n",
      " 10  released_at        296 non-null    datetime64[ns]\n",
      " 11  uri                296 non-null    object        \n",
      " 12  scryfall_uri       296 non-null    object        \n",
      " 13  layout             296 non-null    object        \n",
      " 14  highres_image      296 non-null    bool          \n",
      " 15  image_status       296 non-null    object        \n",
      " 16  image_uris         235 non-null    object        \n",
      " 17  mana_cost          235 non-null    object        \n",
      " 18  cmc                296 non-null    int64         \n",
      " 19  type_line          296 non-null    object        \n",
      " 20  oracle_text        235 non-null    object        \n",
      " 21  colors             235 non-null    object        \n",
      " 22  color_identity     296 non-null    object        \n",
      " 23  keywords           296 non-null    object        \n",
      " 24  legalities         296 non-null    object        \n",
      " 25  games              296 non-null    object        \n",
      " 26  reserved           296 non-null    bool          \n",
      " 27  foil               296 non-null    bool          \n",
      " 28  nonfoil            296 non-null    bool          \n",
      " 29  finishes           296 non-null    object        \n",
      " 30  oversized          296 non-null    bool          \n",
      " 31  promo              296 non-null    bool          \n",
      " 32  reprint            296 non-null    bool          \n",
      " 33  variation          296 non-null    bool          \n",
      " 34  set_id             296 non-null    object        \n",
      " 35  set                296 non-null    object        \n",
      " 36  set_name           296 non-null    object        \n",
      " 37  set_type           296 non-null    object        \n",
      " 38  set_uri            296 non-null    object        \n",
      " 39  set_search_uri     296 non-null    object        \n",
      " 40  scryfall_set_uri   296 non-null    object        \n",
      " 41  rulings_uri        296 non-null    object        \n",
      " 42  prints_search_uri  296 non-null    object        \n",
      " 43  collector_number   296 non-null    int64         \n",
      " 44  digital            296 non-null    bool          \n",
      " 45  rarity             296 non-null    object        \n",
      " 46  flavor_text        145 non-null    object        \n",
      " 47  card_back_id       235 non-null    object        \n",
      " 48  artist             296 non-null    object        \n",
      " 49  artist_ids         296 non-null    object        \n",
      " 50  illustration_id    235 non-null    object        \n",
      " 51  border_color       296 non-null    object        \n",
      " 52  frame              296 non-null    int64         \n",
      " 53  full_art           296 non-null    bool          \n",
      " 54  textless           296 non-null    bool          \n",
      " 55  booster            296 non-null    bool          \n",
      " 56  story_spotlight    296 non-null    bool          \n",
      " 57  edhrec_rank        291 non-null    float64       \n",
      " 58  prices             296 non-null    object        \n",
      " 59  related_uris       296 non-null    object        \n",
      " 60  purchase_uris      296 non-null    object        \n",
      " 61  card_faces         61 non-null     object        \n",
      " 62  power              135 non-null    float64       \n",
      " 63  toughness          135 non-null    float64       \n",
      " 64  preview            141 non-null    object        \n",
      " 65  security_stamp     85 non-null     object        \n",
      " 66  loyalty            3 non-null      float64       \n",
      " 67  all_parts          62 non-null     object        \n",
      " 68  produced_mana      29 non-null     object        \n",
      " 69  frame_effects      38 non-null     object        \n",
      " 70  penny_rank         18 non-null     float64       \n",
      "dtypes: bool(13), datetime64[ns](1), float64(6), int64(6), object(45)\n",
      "memory usage: 140.2+ KB\n"
     ]
    }
   ],
   "source": [
    "raw_set_data.info()"
   ]
  },
  {
   "attachments": {},
   "cell_type": "markdown",
   "metadata": {},
   "source": [
    "The card data we are requesting belongs to the latest card set released by Wizards of the Coast: March of the Machine (aka MOM). In my experience, exploring the contents of a newly released set with data tools accelerates the process of becoming deeply familiar with the themes and composition of the set. \n",
    "\n",
    "Say, we are now interested in the columns that describe gameplay features of the cards in the set to easy the process of playing with new cards. Let's filter the data with a list with the gameplay relevant features. The id and image_uris columns will be also kept to ease any future reference to the data."
   ]
  },
  {
   "cell_type": "code",
   "execution_count": 15,
   "metadata": {},
   "outputs": [
    {
     "name": "stdout",
     "output_type": "stream",
     "text": [
      "<class 'pandas.core.frame.DataFrame'>\n",
      "Int64Index: 296 entries, 0 to 295\n",
      "Data columns (total 13 columns):\n",
      " #   Column          Non-Null Count  Dtype  \n",
      "---  ------          --------------  -----  \n",
      " 0   oracle_text     235 non-null    object \n",
      " 1   power           135 non-null    float64\n",
      " 2   toughness       135 non-null    float64\n",
      " 3   layout          296 non-null    object \n",
      " 4   loyalty         3 non-null      float64\n",
      " 5   name            296 non-null    object \n",
      " 6   card_faces      61 non-null     object \n",
      " 7   colors          235 non-null    object \n",
      " 8   color_identity  296 non-null    object \n",
      " 9   rarity          296 non-null    object \n",
      " 10  type_line       296 non-null    object \n",
      " 11  mana_cost       235 non-null    object \n",
      " 12  cmc             296 non-null    int64  \n",
      "dtypes: float64(3), int64(1), object(9)\n",
      "memory usage: 32.4+ KB\n"
     ]
    },
    {
     "name": "stderr",
     "output_type": "stream",
     "text": [
      "/tmp/ipykernel_4703/460590429.py:5: FutureWarning: Passing a set as an indexer is deprecated and will raise in a future version. Use a list instead.\n",
      "  raw_set_data[gameplay_features].info()\n"
     ]
    }
   ],
   "source": [
    "gameplay_features = {'name', 'layout', 'mana_cost', 'cmc', 'type_line',\n",
    "                     'oracle_text','colors','color_identity', 'card_faces',\n",
    "                     'rarity', 'power', 'toughness', 'loyalty', 'id', 'image_uris'}\n",
    "\n",
    "raw_set_data[gameplay_features].info()"
   ]
  },
  {
   "cell_type": "code",
   "execution_count": 14,
   "metadata": {},
   "outputs": [
    {
     "name": "stdout",
     "output_type": "stream",
     "text": [
      "<class 'pandas.core.frame.DataFrame'>\n",
      "Int64Index: 296 entries, 0 to 295\n",
      "Data columns (total 13 columns):\n",
      " #   Column          Non-Null Count  Dtype  \n",
      "---  ------          --------------  -----  \n",
      " 0   oracle_text     235 non-null    object \n",
      " 1   power           135 non-null    float64\n",
      " 2   toughness       135 non-null    float64\n",
      " 3   layout          296 non-null    object \n",
      " 4   loyalty         3 non-null      float64\n",
      " 5   name            296 non-null    object \n",
      " 6   card_faces      61 non-null     object \n",
      " 7   colors          235 non-null    object \n",
      " 8   color_identity  296 non-null    object \n",
      " 9   rarity          296 non-null    object \n",
      " 10  type_line       296 non-null    object \n",
      " 11  mana_cost       235 non-null    object \n",
      " 12  cmc             296 non-null    int64  \n",
      "dtypes: float64(3), int64(1), object(9)\n",
      "memory usage: 32.4+ KB\n"
     ]
    },
    {
     "name": "stderr",
     "output_type": "stream",
     "text": [
      "/tmp/ipykernel_4703/2456598519.py:1: FutureWarning: Passing a set as an indexer is deprecated and will raise in a future version. Use a list instead.\n",
      "  raw_set_data[gameplay_features].info().groupby()\n"
     ]
    },
    {
     "ename": "AttributeError",
     "evalue": "'NoneType' object has no attribute 'groupby'",
     "output_type": "error",
     "traceback": [
      "\u001b[0;31m---------------------------------------------------------------------------\u001b[0m",
      "\u001b[0;31mAttributeError\u001b[0m                            Traceback (most recent call last)",
      "Cell \u001b[0;32mIn[14], line 1\u001b[0m\n\u001b[0;32m----> 1\u001b[0m raw_set_data[gameplay_features]\u001b[39m.\u001b[39;49minfo()\u001b[39m.\u001b[39;49mgroupby()\n",
      "\u001b[0;31mAttributeError\u001b[0m: 'NoneType' object has no attribute 'groupby'"
     ]
    }
   ],
   "source": []
  }
 ],
 "metadata": {
  "kernelspec": {
   "display_name": "Python 3",
   "language": "python",
   "name": "python3"
  },
  "language_info": {
   "name": "python",
   "version": "3.11.2"
  },
  "orig_nbformat": 4
 },
 "nbformat": 4,
 "nbformat_minor": 2
}
